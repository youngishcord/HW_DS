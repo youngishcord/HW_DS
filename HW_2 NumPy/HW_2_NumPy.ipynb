{
 "cells": [
  {
   "cell_type": "code",
   "execution_count": 2,
   "id": "e8b3afd5",
   "metadata": {},
   "outputs": [
    {
     "name": "stdout",
     "output_type": "stream",
     "text": [
      "Введите число 10\n",
      "[9 8 7 6 5 4 3 2 1 0]\n"
     ]
    }
   ],
   "source": [
    "import numpy as np\n",
    "import sys\n",
    "\n",
    "def arr1(n):\n",
    "    return np.arange(n-1,-1,-1)\n",
    "\n",
    "print(arr1(int(input('Введите число '))))"
   ]
  },
  {
   "cell_type": "code",
   "execution_count": 4,
   "id": "e22cb646",
   "metadata": {},
   "outputs": [
    {
     "name": "stdout",
     "output_type": "stream",
     "text": [
      "Введите число 10\n",
      "(array([[9, 0, 0, 0, 0, 0, 0, 0, 0, 0],\n",
      "       [0, 8, 0, 0, 0, 0, 0, 0, 0, 0],\n",
      "       [0, 0, 7, 0, 0, 0, 0, 0, 0, 0],\n",
      "       [0, 0, 0, 6, 0, 0, 0, 0, 0, 0],\n",
      "       [0, 0, 0, 0, 5, 0, 0, 0, 0, 0],\n",
      "       [0, 0, 0, 0, 0, 4, 0, 0, 0, 0],\n",
      "       [0, 0, 0, 0, 0, 0, 3, 0, 0, 0],\n",
      "       [0, 0, 0, 0, 0, 0, 0, 2, 0, 0],\n",
      "       [0, 0, 0, 0, 0, 0, 0, 0, 1, 0],\n",
      "       [0, 0, 0, 0, 0, 0, 0, 0, 0, 0]]), 'сумма элементов на диагонали = 45')\n"
     ]
    }
   ],
   "source": [
    "def diag_matrix(n):\n",
    "    return np.diag(np.arange(n-1,-1,-1)), f\"сумма элементов на диагонали = {sum(np.diag(np.diag(np.arange(n-1,-1,-1))))}\"\n",
    "\n",
    "print(diag_matrix(int(input(\"Введите число \"))))"
   ]
  },
  {
   "cell_type": "code",
   "execution_count": 5,
   "id": "3f07d309",
   "metadata": {},
   "outputs": [
    {
     "name": "stdout",
     "output_type": "stream",
     "text": [
      "введите кол-во неизвестных 3\n",
      "X1 * 3\n",
      "X2 * 2\n",
      "X3 * 1\n",
      " = 4\n",
      "уравнение: +(3.0*X1)+(2.0*X2)+(1.0*X3) = 4.0\n",
      "X1 * 1\n",
      "X2 * 3\n",
      "X3 * 0\n",
      " = 12\n",
      "уравнение: +(1.0*X1)+(3.0*X2)+(0.0*X3) = 12.0\n",
      "X1 * 0\n",
      "X2 * 5\n",
      "X3 * 4\n",
      " = -3\n",
      "уравнение: +(0.0*X1)+(5.0*X2)+(4.0*X3) = -3.0\n",
      "X1 0.6363636363636364\n",
      "X2 3.7878787878787876\n",
      "X3 -5.484848484848484\n"
     ]
    },
    {
     "data": {
      "text/plain": [
       "array([[ 0.63636364],\n",
       "       [ 3.78787879],\n",
       "       [-5.48484848]])"
      ]
     },
     "execution_count": 5,
     "metadata": {},
     "output_type": "execute_result"
    }
   ],
   "source": [
    "def solve_sys():\n",
    "    a = int(input('введите кол-во неизвестных '))\n",
    "    q = np.zeros((a,a))\n",
    "    w = np.zeros((a,1))\n",
    "    for i in range(a):\n",
    "        for j in range(a+1):\n",
    "            if j == a:\n",
    "                w[i][0] = int(input(\" = \"))\n",
    "                continue\n",
    "            q[i][j] = int(input(f\"X{j+1} * \"))\n",
    "        print(f'уравнение: ',end = '')\n",
    "        for k in range(a+1):\n",
    "            if k == a:\n",
    "                print(f' = {w[i][0]}')\n",
    "                continue\n",
    "            print(f'+({q[i][k]}*X{k+1})',end='')\n",
    "\n",
    "    ans = np.linalg.solve(q,w)\n",
    "    for i in range(a):\n",
    "        print(f\"X{i+1}\", ans[i][0])\n",
    "    return np.linalg.solve(q,w)\n",
    "\n",
    "solve_sys()"
   ]
  },
  {
   "cell_type": "code",
   "execution_count": 6,
   "id": "3b6ad573",
   "metadata": {},
   "outputs": [
    {
     "name": "stdout",
     "output_type": "stream",
     "text": [
      "8\n"
     ]
    }
   ],
   "source": [
    "users_stats = np.array(\n",
    "    [\n",
    "        [2, 1, 0, 0, 0, 0],\n",
    "        [1, 1, 2, 1, 0, 0],\n",
    "        [2, 0, 1, 0, 0, 0],\n",
    "        [1, 1, 2, 1, 0, 1],\n",
    "        [0, 0, 1, 2, 0, 0],\n",
    "        [0, 0, 0, 0, 0, 5],\n",
    "        [1, 0, 0, 0, 0, 0],\n",
    "        [0, 1, 1, 0, 0, 0],#####\n",
    "        [0, 0, 0, 1, 1, 3],\n",
    "        [1, 0, 0, 2, 1, 4]\n",
    "    ], \n",
    "    np.int32\n",
    ")\n",
    "\n",
    "next_user_stats = np.array([0, 1, 2, 0, 0, 0])\n",
    "\n",
    "def angle(stats, user):\n",
    "    a = np.linalg.norm(stats)\n",
    "    b = np.linalg.norm(user)\n",
    "    return np.arccos(np.dot(stats, user)/(a*b))*360/2/np.pi\n",
    "\n",
    "\n",
    "def same_user(users_stats, user):\n",
    "    min_angle = sys.maxsize\n",
    "    for i in range(len(users_stats)):\n",
    "        m = angle(users_stats[i], user)\n",
    "        #print(m)\n",
    "        #print('\\n')\n",
    "        if m < min_angle:\n",
    "            min_angle = m\n",
    "            uid = i+1\n",
    "    return uid\n",
    "\n",
    "\n",
    "\n",
    "print(same_user(users_stats, next_user_stats))"
   ]
  },
  {
   "cell_type": "code",
   "execution_count": null,
   "id": "ea47d765",
   "metadata": {},
   "outputs": [],
   "source": []
  }
 ],
 "metadata": {
  "kernelspec": {
   "display_name": "Python 3 (ipykernel)",
   "language": "python",
   "name": "python3"
  },
  "language_info": {
   "codemirror_mode": {
    "name": "ipython",
    "version": 3
   },
   "file_extension": ".py",
   "mimetype": "text/x-python",
   "name": "python",
   "nbconvert_exporter": "python",
   "pygments_lexer": "ipython3",
   "version": "3.9.7"
  }
 },
 "nbformat": 4,
 "nbformat_minor": 5
}
