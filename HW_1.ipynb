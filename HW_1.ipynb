{
 "cells": [
  {
   "cell_type": "code",
   "execution_count": 33,
   "id": "aeee6758",
   "metadata": {},
   "outputs": [],
   "source": [
    "import random\n",
    "'''\n",
    "Задание 1\n",
    "Дана переменная, в которой хранится слово из латинских букв. Напишите код, который выводит на экран:\n",
    "'''\n",
    "def word(word):\n",
    "    if len(word)%2 == 0:\n",
    "        return word[(len(word)//2)-1:(len(word)//2)+1]\n",
    "    else: \n",
    "        return word[len(word)//2]"
   ]
  },
  {
   "cell_type": "code",
   "execution_count": 34,
   "id": "c5c0a598",
   "metadata": {},
   "outputs": [
    {
     "name": "stdout",
     "output_type": "stream",
     "text": [
      "es\n",
      "s\n"
     ]
    }
   ],
   "source": [
    "print(word(\"test\"))\n",
    "print(word(\"teste\"))"
   ]
  },
  {
   "cell_type": "code",
   "execution_count": 41,
   "id": "d140750c",
   "metadata": {},
   "outputs": [],
   "source": [
    "'''\n",
    "Задание 2\n",
    "Напишите программу, которая последовательно запрашивает у пользователя числа (по одному за раз) \n",
    "и после первого нуля выводит сумму всех ранее введенных чисел.\n",
    "'''\n",
    "def sum_of_dig():\n",
    "    c = 0\n",
    "    while 1:\n",
    "        a = int(input(\"введите число \"))\n",
    "        if a == 0:\n",
    "            return c\n",
    "        else:\n",
    "            c += a"
   ]
  },
  {
   "cell_type": "code",
   "execution_count": 42,
   "id": "a499919d",
   "metadata": {},
   "outputs": [
    {
     "name": "stdout",
     "output_type": "stream",
     "text": [
      "введите число 123\n",
      "введите число 132\n",
      "введите число 0\n",
      "255\n"
     ]
    }
   ],
   "source": [
    "print(sum_of_dig())"
   ]
  },
  {
   "cell_type": "code",
   "execution_count": 43,
   "id": "135410cc",
   "metadata": {},
   "outputs": [],
   "source": [
    "'''\n",
    "Задание 3\n",
    "Мы делаем  dating-сервиса, и у нас есть список парней и девушек.\n",
    "Выдвигаем гипотезу: лучшие рекомендации мы получим, если просто отсортируем имена по алфавиту \n",
    "и познакомим людей с одинаковыми индексами после сортировки! \n",
    "Но мы не будем никого знакомить, если кто-то может остаться без пары:\n",
    "'''\n",
    "def pair(b, g):\n",
    "    b = sorted(b)\n",
    "    g = sorted(g)\n",
    "    if len(b) != len(g):\n",
    "        return print('Внимание кто то может остаться без пары')\n",
    "    print('Идеальные пары')\n",
    "    for i in range(len(b)):\n",
    "        print(b[i], 'и', g[i])\n"
   ]
  },
  {
   "cell_type": "code",
   "execution_count": 44,
   "id": "af7dd21a",
   "metadata": {},
   "outputs": [
    {
     "name": "stdout",
     "output_type": "stream",
     "text": [
      "Идеальные пары\n",
      "Alex и Emma\n",
      "Arthur и Kate\n",
      "John и Kira\n",
      "Peter и Liza\n",
      "Richard и Trisha\n"
     ]
    }
   ],
   "source": [
    "boys = ['Peter','Alex','John','Arthur','Richard']\n",
    "girls = ['Kate','Liza','Kira','Emma','Trisha']\n",
    "\n",
    "pair(boys, girls)"
   ]
  },
  {
   "cell_type": "code",
   "execution_count": 45,
   "id": "a025ad92",
   "metadata": {},
   "outputs": [],
   "source": [
    "'''\n",
    "Задание 4\n",
    "У нас есть список, содержащий информацию о среднедневной температуре в Фаренгейтах \n",
    "за произвольный период по странам (структура данных в примере). \n",
    "Необходимо написать код, который рассчитает среднюю температуру за период в Цельсиях(!) для каждой страны.\n",
    "'''\n",
    "def temperature(c_t):\n",
    "    for i in range(len(c_t)):\n",
    "        print(c_t[i][0], \"-\", round(((sum(c_t[i][1])/len(c_t[i][1]))-32)*(5/9),1))\n",
    "    return"
   ]
  },
  {
   "cell_type": "code",
   "execution_count": 46,
   "id": "8156ade1",
   "metadata": {},
   "outputs": [
    {
     "name": "stdout",
     "output_type": "stream",
     "text": [
      "Thailand - 23.9\n",
      "Germany - 13.8\n",
      "Russia - 3.7\n",
      "Poland - 12.0\n"
     ]
    }
   ],
   "source": [
    "countries_temperature = [\n",
    "    ['Thailand', [75.2,77.,78.8,73.4,68,75.2,77]],\n",
    "    ['Germany', [57.2,55.4,59,59,53.6]],\n",
    "    ['Russia', [35.6,37.4,39.2,41,42.8,39.2,35.6]],\n",
    "    ['Poland', [50,50,53.6,57.2,55.4,55.4]]\n",
    "]\n",
    "\n",
    "temperature(countries_temperature)"
   ]
  },
  {
   "cell_type": "code",
   "execution_count": 47,
   "id": "d9befddb",
   "metadata": {},
   "outputs": [],
   "source": [
    "'''\n",
    "Задание 5\n",
    "Дана переменная, в которой хранится словарь, содержащий гео-метки \n",
    "для каждого пользователя (пример структуры данных приведен ниже). \n",
    "Вам необходимо написать программу, которая выведет на экран множество уникальных гео-меток всех пользователей.\n",
    "'''\n",
    "def gm(ids):\n",
    "    b = []\n",
    "    for a, k in ids.items():\n",
    "        b += k\n",
    "    return set(b)"
   ]
  },
  {
   "cell_type": "code",
   "execution_count": 48,
   "id": "18eb55e6",
   "metadata": {},
   "outputs": [
    {
     "name": "stdout",
     "output_type": "stream",
     "text": [
      "{98, 35, 15, 213, 54, 119}\n"
     ]
    }
   ],
   "source": [
    "ids = {\n",
    "    'user1':[213,213,213,15,213],\n",
    "    'user2':[54,54,119,119,119],\n",
    "    'user3':[213,98,98,35]\n",
    "}\n",
    "\n",
    "#print(ids)\n",
    "print(gm(ids))"
   ]
  },
  {
   "cell_type": "code",
   "execution_count": 49,
   "id": "047b108b",
   "metadata": {},
   "outputs": [],
   "source": [
    "'''\n",
    "Задание 6\n",
    "Дана переменная, в которой хранится список поисковых запросов пользователя (пример структуры данных приведен ниже). \n",
    "Вам необходимо написать программу, которая выведет на экран распределение количества слов в запросах в требуемом виде.\n",
    "'''\n",
    "def users_queries(queries):\n",
    "    q = dict()\n",
    "    for i in range(len(queries)):\n",
    "        key = (len(queries[i].split(' ')))\n",
    "        if key not in q.keys():\n",
    "            q.setdefault(key,1)\n",
    "            #q[key] = 1\n",
    "        else:\n",
    "            a = {key: q[key] + 1}\n",
    "            q.update(a)\n",
    "\n",
    "    for k, v in q.items():\n",
    "        print(f\"Поисковых запросов, содержащих {k} слов(а): {round(((v/len(queries))*100),2)}%\")    \n",
    "    \n",
    "    return "
   ]
  },
  {
   "cell_type": "code",
   "execution_count": 50,
   "id": "0373fd89",
   "metadata": {},
   "outputs": [],
   "source": [
    "queries = [\n",
    "    \"новости спорта\",\n",
    "    \"афиша кино\",\n",
    "    \"курс доллара\",\n",
    "    'смотреть сериалы онлан',\n",
    "    \"сериалы этим летом\",\n",
    "    \"курс по питону\",\n",
    "    \"сериалы про спорт\"\n",
    "]"
   ]
  },
  {
   "cell_type": "code",
   "execution_count": 51,
   "id": "7ba7e31d",
   "metadata": {},
   "outputs": [
    {
     "name": "stdout",
     "output_type": "stream",
     "text": [
      "Поисковых запросов, содержащих 2 слов(а): 42.86%\n",
      "Поисковых запросов, содержащих 3 слов(а): 57.14%\n"
     ]
    }
   ],
   "source": [
    "users_queries(queries)"
   ]
  },
  {
   "cell_type": "code",
   "execution_count": 52,
   "id": "f95747e0",
   "metadata": {},
   "outputs": [],
   "source": [
    "def for_test():\n",
    "\n",
    "    test = []\n",
    "\n",
    "    for i in range(0, 10):\n",
    "        j = random.randint(1,1000)\n",
    "        test.append(\"слово \" * j)\n",
    "        test[i] = test[i][0:-1]\n",
    "    return test"
   ]
  },
  {
   "cell_type": "code",
   "execution_count": 53,
   "id": "1195b630",
   "metadata": {},
   "outputs": [
    {
     "name": "stdout",
     "output_type": "stream",
     "text": [
      "Поисковых запросов, содержащих 893 слов(а): 10.0%\n",
      "Поисковых запросов, содержащих 712 слов(а): 10.0%\n",
      "Поисковых запросов, содержащих 357 слов(а): 10.0%\n",
      "Поисковых запросов, содержащих 804 слов(а): 10.0%\n",
      "Поисковых запросов, содержащих 439 слов(а): 10.0%\n",
      "Поисковых запросов, содержащих 110 слов(а): 10.0%\n",
      "Поисковых запросов, содержащих 368 слов(а): 10.0%\n",
      "Поисковых запросов, содержащих 692 слов(а): 10.0%\n",
      "Поисковых запросов, содержащих 797 слов(а): 10.0%\n",
      "Поисковых запросов, содержащих 414 слов(а): 10.0%\n"
     ]
    }
   ],
   "source": [
    "users_queries(for_test())"
   ]
  },
  {
   "cell_type": "code",
   "execution_count": 54,
   "id": "086e2fcf",
   "metadata": {},
   "outputs": [],
   "source": [
    "'''\n",
    "Задание 7\n",
    "Дана переменная, в которой хранится информация о затратах и доходе рекламных кампаний по различным источникам. \n",
    "Необходимо дополнить исходную структуру показателем ROI, который рассчитаем по формуле: (revenue / cost - 1) * 100\n",
    "'''\n",
    "def add_roi(data):\n",
    "    for i in data.values():\n",
    "        #print(i)\n",
    "        roi = round(((i['revenue']/i['cost'])-1)*100,2)\n",
    "        #print(roi)\n",
    "        i.update({'ROI':roi})\n",
    "    return data"
   ]
  },
  {
   "cell_type": "code",
   "execution_count": 55,
   "id": "b4130c08",
   "metadata": {},
   "outputs": [],
   "source": [
    "results = {\n",
    "    'vk': {'revenue': 103, 'cost': 98},\n",
    "    'yandex': {'revenue': 179, 'cost': 153},\n",
    "    'facebook': {'revenue': 103, 'cost': 110},\n",
    "    'adwords': {'revenue': 35, 'cost': 34},\n",
    "    'twitter': {'revenue': 11, 'cost': 24}\n",
    "}"
   ]
  },
  {
   "cell_type": "code",
   "execution_count": 57,
   "id": "60b6773f",
   "metadata": {},
   "outputs": [
    {
     "name": "stdout",
     "output_type": "stream",
     "text": [
      "{'vk': {'revenue': 103, 'cost': 98, 'ROI': 5.1}, 'yandex': {'revenue': 179, 'cost': 153, 'ROI': 16.99}, 'facebook': {'revenue': 103, 'cost': 110, 'ROI': -6.36}, 'adwords': {'revenue': 35, 'cost': 34, 'ROI': 2.94}, 'twitter': {'revenue': 11, 'cost': 24, 'ROI': -54.17}}\n"
     ]
    }
   ],
   "source": [
    "#print(results.values())\n",
    "print(add_roi(results))"
   ]
  },
  {
   "cell_type": "code",
   "execution_count": 58,
   "id": "e51a7102",
   "metadata": {},
   "outputs": [],
   "source": [
    "'''\n",
    "Задание 8\n",
    "Дана переменная, в которой хранится статистика рекламных каналов по объемам продаж (пример структуры данных приведен ниже). \n",
    "Напишите программу, которая возвращает название канала с максимальным объемом продаж.\n",
    "'''\n",
    "def channel(stats):\n",
    "    a = max(stats.items(), key=lambda x: x[1])\n",
    "    print(f'Максимальный объем продаж на рекламном канале: {a[0]}')\n",
    "    return a[0]"
   ]
  },
  {
   "cell_type": "code",
   "execution_count": 59,
   "id": "4d223191",
   "metadata": {},
   "outputs": [],
   "source": [
    "stats = {'facebook': 55, 'yandex': 115, 'vk': 120, 'google': 99, 'email': 42, 'ok': 98}"
   ]
  },
  {
   "cell_type": "code",
   "execution_count": 60,
   "id": "6845f06b",
   "metadata": {},
   "outputs": [
    {
     "name": "stdout",
     "output_type": "stream",
     "text": [
      "Максимальный объем продаж на рекламном канале: vk\n"
     ]
    },
    {
     "data": {
      "text/plain": [
       "'vk'"
      ]
     },
     "execution_count": 60,
     "metadata": {},
     "output_type": "execute_result"
    }
   ],
   "source": [
    "channel(stats)"
   ]
  },
  {
   "cell_type": "code",
   "execution_count": null,
   "id": "b3c365ba",
   "metadata": {},
   "outputs": [],
   "source": []
  }
 ],
 "metadata": {
  "kernelspec": {
   "display_name": "Python 3 (ipykernel)",
   "language": "python",
   "name": "python3"
  },
  "language_info": {
   "codemirror_mode": {
    "name": "ipython",
    "version": 3
   },
   "file_extension": ".py",
   "mimetype": "text/x-python",
   "name": "python",
   "nbconvert_exporter": "python",
   "pygments_lexer": "ipython3",
   "version": "3.9.7"
  }
 },
 "nbformat": 4,
 "nbformat_minor": 5
}
